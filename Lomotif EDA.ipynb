{
 "cells": [
  {
   "cell_type": "code",
   "execution_count": 1,
   "metadata": {},
   "outputs": [
    {
     "name": "stdout",
     "output_type": "stream",
     "text": [
      "Collecting pandas\n",
      "\u001b[?25l  Downloading https://files.pythonhosted.org/packages/39/73/99aa822ee88cef5829607217c11bf24ecc1171ae5d49d5f780085f5da518/pandas-0.25.1-cp37-cp37m-macosx_10_9_x86_64.macosx_10_10_x86_64.whl (10.1MB)\n",
      "\u001b[K     |████████████████████████████████| 10.1MB 3.7MB/s eta 0:00:01    |██████████████████████████████  | 9.4MB 3.7MB/s eta 0:00:01\n",
      "\u001b[?25hRequirement already satisfied: python-dateutil>=2.6.1 in /Users/jsyap/Desktop/python/ds/ds_env/lib/python3.7/site-packages (from pandas) (2.8.0)\n",
      "Collecting pytz>=2017.2 (from pandas)\n",
      "  Using cached https://files.pythonhosted.org/packages/87/76/46d697698a143e05f77bec5a526bf4e56a0be61d63425b68f4ba553b51f2/pytz-2019.2-py2.py3-none-any.whl\n",
      "Collecting numpy>=1.13.3 (from pandas)\n",
      "\u001b[?25l  Downloading https://files.pythonhosted.org/packages/b4/e8/5ececadd9cc220bb783b4ce6ffaa9266925d37ed41237bc23bc530ab4f3d/numpy-1.17.2-cp37-cp37m-macosx_10_6_intel.whl (15.0MB)\n",
      "\u001b[K     |████████████████████████████████| 15.0MB 23.3MB/s eta 0:00:01    |██████████████████▏             | 8.5MB 23.3MB/s eta 0:00:01\n",
      "\u001b[?25hRequirement already satisfied: six>=1.5 in /Users/jsyap/Desktop/python/ds/ds_env/lib/python3.7/site-packages (from python-dateutil>=2.6.1->pandas) (1.12.0)\n",
      "Installing collected packages: pytz, numpy, pandas\n",
      "Successfully installed numpy-1.17.2 pandas-0.25.1 pytz-2019.2\n"
     ]
    }
   ],
   "source": [
    "!pip install pandas"
   ]
  },
  {
   "cell_type": "code",
   "execution_count": 5,
   "metadata": {},
   "outputs": [],
   "source": [
    "import json\n",
    "from pandas import *"
   ]
  },
  {
   "cell_type": "code",
   "execution_count": 9,
   "metadata": {},
   "outputs": [],
   "source": [
    "df = pandas.read_json('hs.json')"
   ]
  },
  {
   "cell_type": "code",
   "execution_count": 15,
   "metadata": {},
   "outputs": [
    {
     "data": {
      "text/plain": [
       "array(['cardId', 'dbfId', 'name', 'cardSet', 'type', 'text',\n",
       "       'playerClass', 'locale', 'img', 'imgGold', 'health', 'artist',\n",
       "       'mechanics', 'faction', 'cost', 'attack', 'durability', 'rarity',\n",
       "       'flavor', 'collectible', 'race', 'elite', 'armor'], dtype=object)"
      ]
     },
     "execution_count": 15,
     "metadata": {},
     "output_type": "execute_result"
    }
   ],
   "source": [
    "df.columns.values"
   ]
  },
  {
   "cell_type": "code",
   "execution_count": 12,
   "metadata": {},
   "outputs": [],
   "source": [
    "collectible = df[df[\"collectible\"]==True]"
   ]
  },
  {
   "cell_type": "code",
   "execution_count": 17,
   "metadata": {},
   "outputs": [
    {
     "data": {
      "text/plain": [
       "cardId         False\n",
       "dbfId          False\n",
       "name           False\n",
       "cardSet        False\n",
       "type           False\n",
       "text            True\n",
       "playerClass     True\n",
       "locale         False\n",
       "img             True\n",
       "imgGold         True\n",
       "health          True\n",
       "artist          True\n",
       "mechanics       True\n",
       "faction         True\n",
       "cost            True\n",
       "attack          True\n",
       "durability      True\n",
       "rarity          True\n",
       "flavor          True\n",
       "collectible     True\n",
       "race            True\n",
       "elite           True\n",
       "armor           True\n",
       "dtype: bool"
      ]
     },
     "execution_count": 17,
     "metadata": {},
     "output_type": "execute_result"
    }
   ],
   "source": [
    "df.isna().any()"
   ]
  },
  {
   "cell_type": "code",
   "execution_count": 23,
   "metadata": {},
   "outputs": [
    {
     "data": {
      "text/plain": [
       "array(['Priest', 'Warrior', 'Neutral', 'Rogue', 'Warlock', 'Druid', nan,\n",
       "       'Hunter', 'Mage', 'Shaman', 'Paladin'], dtype=object)"
      ]
     },
     "execution_count": 23,
     "metadata": {},
     "output_type": "execute_result"
    }
   ],
   "source": [
    "df[\"playerClass\"].unique()"
   ]
  },
  {
   "cell_type": "code",
   "execution_count": 27,
   "metadata": {},
   "outputs": [
    {
     "data": {
      "text/html": [
       "<div>\n",
       "<style scoped>\n",
       "    .dataframe tbody tr th:only-of-type {\n",
       "        vertical-align: middle;\n",
       "    }\n",
       "\n",
       "    .dataframe tbody tr th {\n",
       "        vertical-align: top;\n",
       "    }\n",
       "\n",
       "    .dataframe thead th {\n",
       "        text-align: right;\n",
       "    }\n",
       "</style>\n",
       "<table border=\"1\" class=\"dataframe\">\n",
       "  <thead>\n",
       "    <tr style=\"text-align: right;\">\n",
       "      <th></th>\n",
       "      <th>cardId</th>\n",
       "      <th>dbfId</th>\n",
       "      <th>name</th>\n",
       "      <th>cardSet</th>\n",
       "      <th>type</th>\n",
       "      <th>text</th>\n",
       "      <th>playerClass</th>\n",
       "      <th>locale</th>\n",
       "      <th>img</th>\n",
       "      <th>imgGold</th>\n",
       "      <th>...</th>\n",
       "      <th>faction</th>\n",
       "      <th>cost</th>\n",
       "      <th>attack</th>\n",
       "      <th>durability</th>\n",
       "      <th>rarity</th>\n",
       "      <th>flavor</th>\n",
       "      <th>collectible</th>\n",
       "      <th>race</th>\n",
       "      <th>elite</th>\n",
       "      <th>armor</th>\n",
       "    </tr>\n",
       "  </thead>\n",
       "  <tbody>\n",
       "    <tr>\n",
       "      <td>31</td>\n",
       "      <td>TRL_390e</td>\n",
       "      <td>54807</td>\n",
       "      <td>Flameweaving</td>\n",
       "      <td>Rastakhan's Rumble</td>\n",
       "      <td>Enchantment</td>\n",
       "      <td>Your next Hero Power deals 2 more damage.</td>\n",
       "      <td>NaN</td>\n",
       "      <td>enUS</td>\n",
       "      <td>NaN</td>\n",
       "      <td>NaN</td>\n",
       "      <td>...</td>\n",
       "      <td>NaN</td>\n",
       "      <td>NaN</td>\n",
       "      <td>NaN</td>\n",
       "      <td>NaN</td>\n",
       "      <td>NaN</td>\n",
       "      <td>NaN</td>\n",
       "      <td>NaN</td>\n",
       "      <td>NaN</td>\n",
       "      <td>NaN</td>\n",
       "      <td>NaN</td>\n",
       "    </tr>\n",
       "    <tr>\n",
       "      <td>99</td>\n",
       "      <td>TRL_085e</td>\n",
       "      <td>54770</td>\n",
       "      <td>Zentimo Spellsurge</td>\n",
       "      <td>Rastakhan's Rumble</td>\n",
       "      <td>Enchantment</td>\n",
       "      <td>Whenever you target a minion with a spell, it ...</td>\n",
       "      <td>NaN</td>\n",
       "      <td>enUS</td>\n",
       "      <td>NaN</td>\n",
       "      <td>NaN</td>\n",
       "      <td>...</td>\n",
       "      <td>NaN</td>\n",
       "      <td>NaN</td>\n",
       "      <td>NaN</td>\n",
       "      <td>NaN</td>\n",
       "      <td>NaN</td>\n",
       "      <td>NaN</td>\n",
       "      <td>NaN</td>\n",
       "      <td>NaN</td>\n",
       "      <td>NaN</td>\n",
       "      <td>NaN</td>\n",
       "    </tr>\n",
       "  </tbody>\n",
       "</table>\n",
       "<p>2 rows × 23 columns</p>\n",
       "</div>"
      ],
      "text/plain": [
       "      cardId  dbfId                name             cardSet         type  \\\n",
       "31  TRL_390e  54807        Flameweaving  Rastakhan's Rumble  Enchantment   \n",
       "99  TRL_085e  54770  Zentimo Spellsurge  Rastakhan's Rumble  Enchantment   \n",
       "\n",
       "                                                 text playerClass locale  img  \\\n",
       "31          Your next Hero Power deals 2 more damage.         NaN   enUS  NaN   \n",
       "99  Whenever you target a minion with a spell, it ...         NaN   enUS  NaN   \n",
       "\n",
       "   imgGold  ...  faction cost attack durability  rarity  flavor  collectible  \\\n",
       "31     NaN  ...      NaN  NaN    NaN        NaN     NaN     NaN          NaN   \n",
       "99     NaN  ...      NaN  NaN    NaN        NaN     NaN     NaN          NaN   \n",
       "\n",
       "   race elite  armor  \n",
       "31  NaN   NaN    NaN  \n",
       "99  NaN   NaN    NaN  \n",
       "\n",
       "[2 rows x 23 columns]"
      ]
     },
     "execution_count": 27,
     "metadata": {},
     "output_type": "execute_result"
    }
   ],
   "source": [
    "df[df[\"playerClass\"].isna()]"
   ]
  },
  {
   "cell_type": "code",
   "execution_count": null,
   "metadata": {},
   "outputs": [],
   "source": [
    ""
   ]
  }
 ],
 "metadata": {
  "kernelspec": {
   "display_name": "Python 3",
   "language": "python",
   "name": "python3"
  },
  "language_info": {
   "codemirror_mode": {
    "name": "ipython",
    "version": 3.0
   },
   "file_extension": ".py",
   "mimetype": "text/x-python",
   "name": "python",
   "nbconvert_exporter": "python",
   "pygments_lexer": "ipython3",
   "version": "3.7.0"
  }
 },
 "nbformat": 4,
 "nbformat_minor": 0
}